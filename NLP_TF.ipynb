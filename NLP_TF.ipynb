{
  "nbformat": 4,
  "nbformat_minor": 0,
  "metadata": {
    "colab": {
      "provenance": []
    },
    "kernelspec": {
      "name": "python3",
      "display_name": "Python 3"
    },
    "language_info": {
      "name": "python"
    },
    "accelerator": "TPU",
    "gpuClass": "standard"
  },
  "cells": [
    {
      "cell_type": "code",
      "source": [
        "import tensorflow as tf"
      ],
      "metadata": {
        "id": "FSnbF6wseuR4"
      },
      "execution_count": 1,
      "outputs": []
    },
    {
      "cell_type": "code",
      "source": [
        "from tensorflow.keras.preprocessing.text import Tokenizer\n",
        "from tensorflow.keras.preprocessing.sequence import pad_sequences\n",
        "from tensorflow.keras.layers import Dense,Embedding,Bidirectional,LSTM\n",
        "from tensorflow.keras.optimizers import Adam\n",
        "import numpy as np"
      ],
      "metadata": {
        "id": "GhcG2Jjqeu4K"
      },
      "execution_count": 2,
      "outputs": []
    },
    {
      "cell_type": "code",
      "source": [
        "tokenizer = Tokenizer()"
      ],
      "metadata": {
        "id": "QQuMOL24fY6R"
      },
      "execution_count": 3,
      "outputs": []
    },
    {
      "cell_type": "code",
      "source": [
        "data = \"\"\"\n",
        "Om ! Having bowed down to Narayana and Nara, the most exalted\n",
        "male being, and also to the goddess Saraswati, must the word Jaya be\n",
        "uttered.\n",
        "Ugrasrava, the son of Lomaharshana, surnamed Sauti, well-versed\n",
        "in the Puranas, bending with humility, one day approached the great\n",
        "sages of rigid vows, sitting at their ease, who had attended the twelve\n",
        "years' sacrifice of Saunaka, surnamed Kulapati, in the forest of Naimisha.\n",
        "Those ascetics, wishing to hear his wonderful narrations, presently\n",
        "began to address him who had thus arrived at that recluse abode of the\n",
        "inhabitants of the forest of Naimisha. Having been entertained with\n",
        "due respect by those holy men, he saluted those Munis (sages) with\n",
        "joined palms, even all of them, and inquired about the progress of their\n",
        "asceticism. Then all the ascetics being again seated, the son of Lomaharshana humbly occupied the seat that was assigned to him. Seeing\n",
        "that he was comfortably seated, and recovered from fatigue, one of the\n",
        "Rishis beginning the conversation, asked him, 'Whence comest thou,\n",
        "O lotus-eyed Sauti, and where hast thou spent the time ? Tell me, who\n",
        "ask thee, in detail.' Accomplished in speech, Sauti, thus questioned, gave in the midst\n",
        "of that big assemblage of contemplative Munis a full and proper answer\n",
        "in words consonant with their mode of life. \"Sauti said, 'Having heard the diverse sacred and wonderful stories which were composed in his Mahabharata by Krishna-Dwaipayana, and\n",
        "which were recited in full by Vaisampayana at the Snake-sacrifice of the high-souled royal sage Janamejaya and in the presence also of that\n",
        "chief of Princes, the son of Parikshit, and having wandered about,\n",
        "visiting many sacred waters and holy shrines, I journeyed to the country venerated by the Dwijas (twice- born) and called Samantapanchaka\n",
        "where formerly was fought the battle between the children of Kuru\n",
        "and PandUt and all the chiefs of the land ranged on either side. Thence,\n",
        "anxious to see you, I am come into your presence. Ye reverend sages,\n",
        "all of whom are to me as Brahma ; ye greatly blessed who shine in\n",
        "2 MAHABHARATA\n",
        "this place of sacrifice with the splendour of the solar fire : ye who haveconcluded the silent meditations and have fed the holy fire ; and yetwho are sitting without care, what, O ye Dwijas (twice-born), shallIrepeat, shall I recount the sacred stories collected in the Puranas containing precepts of religious duty and of worldly profit, or the acts ofillustrious saints and sovereigns of mankind ?' \"The Rishi replied, 'The Purana, first promulgated by the greatRishi Dwaipayana, and which after having been heard both by the godsand the Brahmarshis was highly esteemed, being the most eminentnarrative that exists, diversified both in diction and division, possessingsubtile meanings logically combined, and gleaned from the Vedas, is asacred work. Composed in elegant language, it includeth the subjectsof other books. It is elucidated by other Shastras, and comprehendeththe sense of the four Vedas. We are desirous of hearing that historyalso called Bharata, the holy composition of the wonderful Vyasa, whichdispelleth the fear of evil, just as it was cheerfully recited by the RishiVaisampayana, under the direction of Dwaipayana himself, at thesnake-sacrifice of Raja Janamejaya ?' \"Sauti then said, 'Having bowed down to the primordial beingIsana, to whom multitudes make offerings, and who is adored by themultitude ; who is the true incorruptible one, Brahma, perceptible,imperceptible, eternal ; who is both a non-existing and an existing-nonexisting being ; who is the universe and also distinct from the existingand non-existing universe ; who is the creator of high and low ; theancient, exalted, inexhaustible one ; who is Vishnu, beneficent and thebeneficence itself, worthy of all preference, pure and immaculate ; whois Hari, the ruler of the faculties, the guide of all things moveable andimmoveable ; I will declare the sacred thoughts of the illustrious sageVyasa, of marvellous deeds and worshipped here by all. Some bardshave already published this history, some are now teaching it, andothers, in like manner, will hereafter promulgate it upon the earth. Itis a great source of knowledge, established throughout the three regionsof the world. It is possessed by the twice-born both in detailed andcompendious forms. It is the delight of the learned for being embellishedwith elegant expressions, conversations human and divine, and a varietyof poetical measures.\n",
        "In this world, when it was destitute of brightness and light, andenveloped all around in total darkness, there came into being, as theprimal cause of creation, a mighty egg, the one inexhaustible seed of allcreated beings. It is called Mahadivya, and was formed at the beginning of the Yuga, in which we are told, was the true light Brahma,the eternal one, the wonderful and inconceivable being present alike\n",
        "ADI PAKVA 3in all places ; the invisible and subtile cause, whose nature partakethof entity and non-entity. From this egg came out the lord PitamahaBrahma, the one only Prajapati ; with Suraguru and Sthanu. Thenappeared the twenty-one Prajapatis, viz., Manu, Vasishtha and Parameshthi ; ten Prachetas, Daksha, and the seven sons of Daksha. Thenappeared the man of inconceivable nature whom all the Rishis knowand so the Viswe-devas, the Adityas, the Vasus, and the twin Aswins ; the Yakshas, the Sadhyas, the Pisachas, the Guhyakas, and the Pitris. After these were produced the wise and most holy Brahmarshis, and thenumerous Eajarshis distinguished by every noble quality. So the water,the heavens, the earth, the air, the sky, the points of the heavens,the years, the seasons, the months, the fortnights, called Pakshas, withday and night in due succession. And thus were produced all thingswhich are known to mankind.\n",
        "And what is seen in the universe, whether animate or inanimate,of created things, will at the end of the world, and after the expirationof the Yuga, be again confounded. And, at the commencement of other Yugas, all things will be renovated, and, like the various fruits\n",
        "of the earth, succeed each other in the due order of their seasons. Thus continueth perpetually to revolve in the world, without begin*\n",
        "ning and without end, this wheel which causeth the destruction of all things.\n",
        "The generation of Devas, in brief, was thirty-three thousand,thirty-three hundred and thirty- three. The sons of Div wereBrihadbhanu, Chakshus, Atma Vibhavasu, Savita, Richika, Arka,Bhanu, Asavaha, and Ravi. Of these Vivaswans of old, Mahya wasthe youngest whose son was Deva-vrata. The latter had for his son, Su-vrata who, we learn, had three sons, Dasa-jyoti, Sata-jyoti, andSahasra-jyoti, each of them producing numerous offspring. The illus- trious Dasa-jyoti had ten thousand, Sata-jyoti ten times that number,and Sahasra-jyoti ten times the number of Sata-jyoti's offspring. Fromthese are descended the family of the Kurus, of the Yadus, and of Bharata ; the family of Yayati and of Ikshwaku ; also of all the Rajarshis.\n",
        "Numerous also were the generations produced, and very abundant werethe creatures and their places of abode. The mystery which is threefold\n",
        "the Vedas, Yoga, and Vijnana Dharma, Artha, and Kama also various books upon the subject of Dharma, Artha, and Kama ; also rules for the conduct of mankind ; also histories and discourses withvarious srutis ; all of which having been seen by the Rishi Vyasa are here in due order mentioned as a specimen of the book.\n",
        "The Rishi Vyasa published this mass of knowledge in both a\n",
        "detailed and an abridged form, It is the wish of the learned in the world\n",
        "4 MAHABHARATA\n",
        "to possess the details and the abridgement. Some read the Bharatabeginning with the initial mantra (invocation), others with the story of Astika, others with Uparichara, while some Brahmanas study the whole.Men of learning display their various knowledge of the institutes incommenting on the composition. Some are skilful in explaining it, while others, in remembering its contents. The son of Satyavati having, by penance and meditation, analysedthe eternal Veda, afterwards composed this holy history, when thatlearned Brahmarshi of strict vows, the noble Dwaipayana Vyasa, off- spring of Parasara, had finished this greatest of narrations, he beganto consider how he might teach it to his disciples. And the possessor ofthe six attributes, Brahma, the world's preceptor, knowing of theanxiety of the Rishi Dwaipayana, came in person to the place wherethe latter was, for gratifying the saint, and benefiting the people.And when Vyasa, surrounded by all the tribes of Munis, saw him, hewas surprised ; and, standing with joined palms, he bowed and ordereda seat to be brought. And Vyasa having gone round him who is calledHiranyagarbha seated on that distinguished seat stood near it ; andbeing commanded by Brahma Parameshthi, he sat down near the seat, full of affection and smiling in joy. Then the greatly glorious Vyasa, addressing Brahma Parameshthi, said, \"O divine Brahma, by me a poem hathbeen composed which is greatly respected. The mystery of the Veda,and what other subjects have been explained by me ; the variousrituals of the Upanishads with the Angas ; the compilation of thePuranas and history formed by me and named after the three divisionsof time, past, present, and future ; the determination of the natureof decay, fear, disease, existence, and non-existence ; a descriptionof creeds and of the various modes of life ; rule for the four castes,and the import of all the Puranas ; an account of asceticism and of theduties of a religious student ; the dimensions of the sun and moon, theplanets, constellations, and stars, together with the duration of thefour ages ; the Rik, Sama and Yajur Vedas ; also the Adhyatma ; thesciences called Nyaya, Orthoepy and Treatment of diseases ; charityand Pasupatadharma ; birth celestial and human, for particular purposes ; also a description of places of pilgrimage and other holy places ofrivers, mountains, forests, the ocean, of heavenly cities and the kalpas ; the art of war ; the different kinds of nations and languages : the natureof the manners of the people ; and the all-pervading spirit ; all thesehave been represented. But, after all, no writer of this work is to befound on earth/\n",
        "\"Brahma said, 1 esteem thee for thy knowledge of divine mysteries,before the whole body of celebrated Munis distinguished for the sanctity\n",
        "PABVA 5\n",
        "of their lives. I know thou hast revealed the divine word, even fromits first utterance, in the language of truth. Thou hast called thy present\n",
        "work a poem, wherefore it shall be a poem. There shall be no poets\n",
        "whose works may equal the descriptions of this poem, even, as the three\n",
        "other modes called Asrama are ever unequal in merit to the domestic\n",
        "Asrama. Let Ganesa be thought of, O Muni, for the purpose of writing the poem.'\n",
        "\"Sauti said, 'Brahma having thus spoken to Vyasa, retired to his own abode. Then Vyasa began to call to mind Ganesa. And Ganesa,\n",
        "obviator of obstacles, ready to fulfil the desires of his votaries, was nosooner thought of, then he repaired to the place where Vyasa was seated. And when he had been saluted, and was seated, Vyasa addressed himthus, 'O guide of the Ganas I be thou the writer of the Bharata whichI have formed in my imagination, and which I am about to repeat/\n",
        "\"Ganesa, upon hearing this address, thus answered, 'I will becomethe writer of thy work, provided my pen do not for a moment cease\n",
        "writing.' And Vyasa said unto that divinity, 'Wherever there by anything thou dost not comprehend, cease to continue writing.' Ganesahaving signified his assent, by repeating the word Om ! proceeded to write ; and Vyasa began ; and by way of diversion, he knit the knots of\n",
        "composition exceeding close ; by doing which, he dictated this workaccording to his engagement.\n",
        "I am (continued Sauti) acquainted with eight thousand and eight\n",
        "hundred verses, and so is Suka, and perhaps Sanfaya. From the mysteriousness of their meaning, O Muni, no one is able, to this day, to penetrate those closely knit difficult slokas. Even the omniscient\n",
        "Ganesa took a moment to consider ; while Vyasa, however, continued to compose other verses in great abundance.\n",
        "The wisdom of this work, like unto an instrument of applying\n",
        "collyrium, hath opened the eyes of the inquisitive world blinded by the\n",
        "darkness of ignorance. As the sun dispelleth the darkness, so doth the\n",
        "Bharata by its discourses on religion, profit, pleasure and final release,\n",
        "dispel the ignorance of men. As the full-moon by its mild light expandeth the buds of the water-lily, so this Purana, by exposing the light of the Sruti hath expanded the human intellect. By the lamp of history,\n",
        "which destroyeth the darkness of ignorance, the whole mansion of nature is properly and completely illuminated.\n",
        "This work is a tree, of which the chapter of contents is the seed ; the divisions called Pauloma and Astika are the root ; the part called\n",
        "Sambhava is the trunk ; the books called Sabha and Aranya are the roost- ing perches ; the books called Arani is the knitting knots ; the books\n",
        "called Virata and Udyoga the pith ; the book named Bhishma,\n",
        "\"\"\""
      ],
      "metadata": {
        "id": "1fPAJSXow0T8"
      },
      "execution_count": 38,
      "outputs": []
    },
    {
      "cell_type": "code",
      "source": [
        "corpus = data.lower()"
      ],
      "metadata": {
        "id": "8zDdjHIzgiob"
      },
      "execution_count": 39,
      "outputs": []
    },
    {
      "cell_type": "code",
      "source": [
        "corpus = corpus.split('\\n')"
      ],
      "metadata": {
        "id": "xaIVNskRglp8"
      },
      "execution_count": 40,
      "outputs": []
    },
    {
      "cell_type": "code",
      "source": [
        "corpus"
      ],
      "metadata": {
        "colab": {
          "base_uri": "https://localhost:8080/"
        },
        "id": "P9lIc0JBgm0e",
        "outputId": "589f5aa0-12aa-4e75-a24b-653b659486ff"
      },
      "execution_count": 41,
      "outputs": [
        {
          "output_type": "execute_result",
          "data": {
            "text/plain": [
              "['',\n",
              " 'om ! having bowed down to narayana and nara, the most exalted',\n",
              " 'male being, and also to the goddess saraswati, must the word jaya be',\n",
              " 'uttered.',\n",
              " 'ugrasrava, the son of lomaharshana, surnamed sauti, well-versed',\n",
              " 'in the puranas, bending with humility, one day approached the great',\n",
              " 'sages of rigid vows, sitting at their ease, who had attended the twelve',\n",
              " \"years' sacrifice of saunaka, surnamed kulapati, in the forest of naimisha.\",\n",
              " 'those ascetics, wishing to hear his wonderful narrations, presently',\n",
              " 'began to address him who had thus arrived at that recluse abode of the',\n",
              " 'inhabitants of the forest of naimisha. having been entertained with',\n",
              " 'due respect by those holy men, he saluted those munis (sages) with',\n",
              " 'joined palms, even all of them, and inquired about the progress of their',\n",
              " 'asceticism. then all the ascetics being again seated, the son of lomaharshana humbly occupied the seat that was assigned to him. seeing',\n",
              " 'that he was comfortably seated, and recovered from fatigue, one of the',\n",
              " \"rishis beginning the conversation, asked him, 'whence comest thou,\",\n",
              " 'o lotus-eyed sauti, and where hast thou spent the time ? tell me, who',\n",
              " \"ask thee, in detail.' accomplished in speech, sauti, thus questioned, gave in the midst\",\n",
              " 'of that big assemblage of contemplative munis a full and proper answer',\n",
              " 'in words consonant with their mode of life. \"sauti said, \\'having heard the diverse sacred and wonderful stories which were composed in his mahabharata by krishna-dwaipayana, and',\n",
              " 'which were recited in full by vaisampayana at the snake-sacrifice of the high-souled royal sage janamejaya and in the presence also of that',\n",
              " 'chief of princes, the son of parikshit, and having wandered about,',\n",
              " 'visiting many sacred waters and holy shrines, i journeyed to the country venerated by the dwijas (twice- born) and called samantapanchaka',\n",
              " 'where formerly was fought the battle between the children of kuru',\n",
              " 'and pandut and all the chiefs of the land ranged on either side. thence,',\n",
              " 'anxious to see you, i am come into your presence. ye reverend sages,',\n",
              " 'all of whom are to me as brahma ; ye greatly blessed who shine in',\n",
              " '2 mahabharata',\n",
              " 'this place of sacrifice with the splendour of the solar fire : ye who haveconcluded the silent meditations and have fed the holy fire ; and yetwho are sitting without care, what, o ye dwijas (twice-born), shallirepeat, shall i recount the sacred stories collected in the puranas containing precepts of religious duty and of worldly profit, or the acts ofillustrious saints and sovereigns of mankind ?\\' \"the rishi replied, \\'the purana, first promulgated by the greatrishi dwaipayana, and which after having been heard both by the godsand the brahmarshis was highly esteemed, being the most eminentnarrative that exists, diversified both in diction and division, possessingsubtile meanings logically combined, and gleaned from the vedas, is asacred work. composed in elegant language, it includeth the subjectsof other books. it is elucidated by other shastras, and comprehendeththe sense of the four vedas. we are desirous of hearing that historyalso called bharata, the holy composition of the wonderful vyasa, whichdispelleth the fear of evil, just as it was cheerfully recited by the rishivaisampayana, under the direction of dwaipayana himself, at thesnake-sacrifice of raja janamejaya ?\\' \"sauti then said, \\'having bowed down to the primordial beingisana, to whom multitudes make offerings, and who is adored by themultitude ; who is the true incorruptible one, brahma, perceptible,imperceptible, eternal ; who is both a non-existing and an existing-nonexisting being ; who is the universe and also distinct from the existingand non-existing universe ; who is the creator of high and low ; theancient, exalted, inexhaustible one ; who is vishnu, beneficent and thebeneficence itself, worthy of all preference, pure and immaculate ; whois hari, the ruler of the faculties, the guide of all things moveable andimmoveable ; i will declare the sacred thoughts of the illustrious sagevyasa, of marvellous deeds and worshipped here by all. some bardshave already published this history, some are now teaching it, andothers, in like manner, will hereafter promulgate it upon the earth. itis a great source of knowledge, established throughout the three regionsof the world. it is possessed by the twice-born both in detailed andcompendious forms. it is the delight of the learned for being embellishedwith elegant expressions, conversations human and divine, and a varietyof poetical measures.',\n",
              " 'in this world, when it was destitute of brightness and light, andenveloped all around in total darkness, there came into being, as theprimal cause of creation, a mighty egg, the one inexhaustible seed of allcreated beings. it is called mahadivya, and was formed at the beginning of the yuga, in which we are told, was the true light brahma,the eternal one, the wonderful and inconceivable being present alike',\n",
              " 'adi pakva 3in all places ; the invisible and subtile cause, whose nature partakethof entity and non-entity. from this egg came out the lord pitamahabrahma, the one only prajapati ; with suraguru and sthanu. thenappeared the twenty-one prajapatis, viz., manu, vasishtha and parameshthi ; ten prachetas, daksha, and the seven sons of daksha. thenappeared the man of inconceivable nature whom all the rishis knowand so the viswe-devas, the adityas, the vasus, and the twin aswins ; the yakshas, the sadhyas, the pisachas, the guhyakas, and the pitris. after these were produced the wise and most holy brahmarshis, and thenumerous eajarshis distinguished by every noble quality. so the water,the heavens, the earth, the air, the sky, the points of the heavens,the years, the seasons, the months, the fortnights, called pakshas, withday and night in due succession. and thus were produced all thingswhich are known to mankind.',\n",
              " 'and what is seen in the universe, whether animate or inanimate,of created things, will at the end of the world, and after the expirationof the yuga, be again confounded. and, at the commencement of other yugas, all things will be renovated, and, like the various fruits',\n",
              " 'of the earth, succeed each other in the due order of their seasons. thus continueth perpetually to revolve in the world, without begin*',\n",
              " 'ning and without end, this wheel which causeth the destruction of all things.',\n",
              " \"the generation of devas, in brief, was thirty-three thousand,thirty-three hundred and thirty- three. the sons of div werebrihadbhanu, chakshus, atma vibhavasu, savita, richika, arka,bhanu, asavaha, and ravi. of these vivaswans of old, mahya wasthe youngest whose son was deva-vrata. the latter had for his son, su-vrata who, we learn, had three sons, dasa-jyoti, sata-jyoti, andsahasra-jyoti, each of them producing numerous offspring. the illus- trious dasa-jyoti had ten thousand, sata-jyoti ten times that number,and sahasra-jyoti ten times the number of sata-jyoti's offspring. fromthese are descended the family of the kurus, of the yadus, and of bharata ; the family of yayati and of ikshwaku ; also of all the rajarshis.\",\n",
              " 'numerous also were the generations produced, and very abundant werethe creatures and their places of abode. the mystery which is threefold',\n",
              " 'the vedas, yoga, and vijnana dharma, artha, and kama also various books upon the subject of dharma, artha, and kama ; also rules for the conduct of mankind ; also histories and discourses withvarious srutis ; all of which having been seen by the rishi vyasa are here in due order mentioned as a specimen of the book.',\n",
              " 'the rishi vyasa published this mass of knowledge in both a',\n",
              " 'detailed and an abridged form, it is the wish of the learned in the world',\n",
              " '4 mahabharata',\n",
              " 'to possess the details and the abridgement. some read the bharatabeginning with the initial mantra (invocation), others with the story of astika, others with uparichara, while some brahmanas study the whole.men of learning display their various knowledge of the institutes incommenting on the composition. some are skilful in explaining it, while others, in remembering its contents. the son of satyavati having, by penance and meditation, analysedthe eternal veda, afterwards composed this holy history, when thatlearned brahmarshi of strict vows, the noble dwaipayana vyasa, off- spring of parasara, had finished this greatest of narrations, he beganto consider how he might teach it to his disciples. and the possessor ofthe six attributes, brahma, the world\\'s preceptor, knowing of theanxiety of the rishi dwaipayana, came in person to the place wherethe latter was, for gratifying the saint, and benefiting the people.and when vyasa, surrounded by all the tribes of munis, saw him, hewas surprised ; and, standing with joined palms, he bowed and ordereda seat to be brought. and vyasa having gone round him who is calledhiranyagarbha seated on that distinguished seat stood near it ; andbeing commanded by brahma parameshthi, he sat down near the seat, full of affection and smiling in joy. then the greatly glorious vyasa, addressing brahma parameshthi, said, \"o divine brahma, by me a poem hathbeen composed which is greatly respected. the mystery of the veda,and what other subjects have been explained by me ; the variousrituals of the upanishads with the angas ; the compilation of thepuranas and history formed by me and named after the three divisionsof time, past, present, and future ; the determination of the natureof decay, fear, disease, existence, and non-existence ; a descriptionof creeds and of the various modes of life ; rule for the four castes,and the import of all the puranas ; an account of asceticism and of theduties of a religious student ; the dimensions of the sun and moon, theplanets, constellations, and stars, together with the duration of thefour ages ; the rik, sama and yajur vedas ; also the adhyatma ; thesciences called nyaya, orthoepy and treatment of diseases ; charityand pasupatadharma ; birth celestial and human, for particular purposes ; also a description of places of pilgrimage and other holy places ofrivers, mountains, forests, the ocean, of heavenly cities and the kalpas ; the art of war ; the different kinds of nations and languages : the natureof the manners of the people ; and the all-pervading spirit ; all thesehave been represented. but, after all, no writer of this work is to befound on earth/',\n",
              " '\"brahma said, 1 esteem thee for thy knowledge of divine mysteries,before the whole body of celebrated munis distinguished for the sanctity',\n",
              " 'pabva 5',\n",
              " 'of their lives. i know thou hast revealed the divine word, even fromits first utterance, in the language of truth. thou hast called thy present',\n",
              " 'work a poem, wherefore it shall be a poem. there shall be no poets',\n",
              " 'whose works may equal the descriptions of this poem, even, as the three',\n",
              " 'other modes called asrama are ever unequal in merit to the domestic',\n",
              " \"asrama. let ganesa be thought of, o muni, for the purpose of writing the poem.'\",\n",
              " '\"sauti said, \\'brahma having thus spoken to vyasa, retired to his own abode. then vyasa began to call to mind ganesa. and ganesa,',\n",
              " \"obviator of obstacles, ready to fulfil the desires of his votaries, was nosooner thought of, then he repaired to the place where vyasa was seated. and when he had been saluted, and was seated, vyasa addressed himthus, 'o guide of the ganas i be thou the writer of the bharata whichi have formed in my imagination, and which i am about to repeat/\",\n",
              " '\"ganesa, upon hearing this address, thus answered, \\'i will becomethe writer of thy work, provided my pen do not for a moment cease',\n",
              " \"writing.' and vyasa said unto that divinity, 'wherever there by anything thou dost not comprehend, cease to continue writing.' ganesahaving signified his assent, by repeating the word om ! proceeded to write ; and vyasa began ; and by way of diversion, he knit the knots of\",\n",
              " 'composition exceeding close ; by doing which, he dictated this workaccording to his engagement.',\n",
              " 'i am (continued sauti) acquainted with eight thousand and eight',\n",
              " 'hundred verses, and so is suka, and perhaps sanfaya. from the mysteriousness of their meaning, o muni, no one is able, to this day, to penetrate those closely knit difficult slokas. even the omniscient',\n",
              " 'ganesa took a moment to consider ; while vyasa, however, continued to compose other verses in great abundance.',\n",
              " 'the wisdom of this work, like unto an instrument of applying',\n",
              " 'collyrium, hath opened the eyes of the inquisitive world blinded by the',\n",
              " 'darkness of ignorance. as the sun dispelleth the darkness, so doth the',\n",
              " 'bharata by its discourses on religion, profit, pleasure and final release,',\n",
              " 'dispel the ignorance of men. as the full-moon by its mild light expandeth the buds of the water-lily, so this purana, by exposing the light of the sruti hath expanded the human intellect. by the lamp of history,',\n",
              " 'which destroyeth the darkness of ignorance, the whole mansion of nature is properly and completely illuminated.',\n",
              " 'this work is a tree, of which the chapter of contents is the seed ; the divisions called pauloma and astika are the root ; the part called',\n",
              " 'sambhava is the trunk ; the books called sabha and aranya are the roost- ing perches ; the books called arani is the knitting knots ; the books',\n",
              " 'called virata and udyoga the pith ; the book named bhishma,',\n",
              " '']"
            ]
          },
          "metadata": {},
          "execution_count": 41
        }
      ]
    },
    {
      "cell_type": "code",
      "source": [
        "len(corpus)"
      ],
      "metadata": {
        "colab": {
          "base_uri": "https://localhost:8080/"
        },
        "id": "q4SnAp6FJJoB",
        "outputId": "1501c4d4-a0dc-4de0-bcd1-2913f4ca7591"
      },
      "execution_count": 42,
      "outputs": [
        {
          "output_type": "execute_result",
          "data": {
            "text/plain": [
              "66"
            ]
          },
          "metadata": {},
          "execution_count": 42
        }
      ]
    },
    {
      "cell_type": "code",
      "source": [
        "tokenizer.fit_on_texts(corpus)"
      ],
      "metadata": {
        "id": "JY81HBdbhIrX"
      },
      "execution_count": 43,
      "outputs": []
    },
    {
      "cell_type": "code",
      "source": [
        "total_words = len(tokenizer.word_index)+1"
      ],
      "metadata": {
        "id": "I_affrWqgxKd"
      },
      "execution_count": 44,
      "outputs": []
    },
    {
      "cell_type": "code",
      "source": [
        "total_words"
      ],
      "metadata": {
        "colab": {
          "base_uri": "https://localhost:8080/"
        },
        "id": "GboOxApmg3_I",
        "outputId": "b2049bf0-3cd6-4681-ef24-d63b20e8098d"
      },
      "execution_count": 45,
      "outputs": [
        {
          "output_type": "execute_result",
          "data": {
            "text/plain": [
              "926"
            ]
          },
          "metadata": {},
          "execution_count": 45
        }
      ]
    },
    {
      "cell_type": "code",
      "source": [
        "input_seq = []\n",
        "for line in corpus:\n",
        "  token_list = tokenizer.texts_to_sequences([line])[0]\n",
        "  for i in range(1 , len(token_list)):\n",
        "    n_gram_seq = token_list[:i+1]\n",
        "    input_seq.append(n_gram_seq)\n",
        "    "
      ],
      "metadata": {
        "id": "n3eGbjyrg48Y"
      },
      "execution_count": 46,
      "outputs": []
    },
    {
      "cell_type": "code",
      "source": [
        "len(input_seq)"
      ],
      "metadata": {
        "colab": {
          "base_uri": "https://localhost:8080/"
        },
        "id": "ZtnYaCm_KdGg",
        "outputId": "e7bf8d79-9c56-472b-e3b1-16e195c2e162"
      },
      "execution_count": 47,
      "outputs": [
        {
          "output_type": "execute_result",
          "data": {
            "text/plain": [
              "2083"
            ]
          },
          "metadata": {},
          "execution_count": 47
        }
      ]
    },
    {
      "cell_type": "code",
      "source": [
        "max_seq_len = max([len(x) for x in input_seq])"
      ],
      "metadata": {
        "id": "glhqtWTbi1TU"
      },
      "execution_count": 48,
      "outputs": []
    },
    {
      "cell_type": "code",
      "source": [
        "max_seq_len"
      ],
      "metadata": {
        "colab": {
          "base_uri": "https://localhost:8080/"
        },
        "id": "XpJUul3gFo4M",
        "outputId": "1faaa2bf-0552-4e80-e96d-4b34e8f9d6fb"
      },
      "execution_count": 49,
      "outputs": [
        {
          "output_type": "execute_result",
          "data": {
            "text/plain": [
              "416"
            ]
          },
          "metadata": {},
          "execution_count": 49
        }
      ]
    },
    {
      "cell_type": "code",
      "source": [
        "input_sequences = np.array(pad_sequences(input_seq, maxlen=max_seq_len, padding='pre'))"
      ],
      "metadata": {
        "id": "E7Px_NsajxYb"
      },
      "execution_count": 50,
      "outputs": []
    },
    {
      "cell_type": "code",
      "source": [
        "input_sequences[0]"
      ],
      "metadata": {
        "colab": {
          "base_uri": "https://localhost:8080/"
        },
        "id": "b1t0WMcj3ru_",
        "outputId": "af68dd93-06e1-44ba-b6f2-c51ed5ee7fc9"
      },
      "execution_count": 51,
      "outputs": [
        {
          "output_type": "execute_result",
          "data": {
            "text/plain": [
              "array([  0,   0,   0,   0,   0,   0,   0,   0,   0,   0,   0,   0,   0,\n",
              "         0,   0,   0,   0,   0,   0,   0,   0,   0,   0,   0,   0,   0,\n",
              "         0,   0,   0,   0,   0,   0,   0,   0,   0,   0,   0,   0,   0,\n",
              "         0,   0,   0,   0,   0,   0,   0,   0,   0,   0,   0,   0,   0,\n",
              "         0,   0,   0,   0,   0,   0,   0,   0,   0,   0,   0,   0,   0,\n",
              "         0,   0,   0,   0,   0,   0,   0,   0,   0,   0,   0,   0,   0,\n",
              "         0,   0,   0,   0,   0,   0,   0,   0,   0,   0,   0,   0,   0,\n",
              "         0,   0,   0,   0,   0,   0,   0,   0,   0,   0,   0,   0,   0,\n",
              "         0,   0,   0,   0,   0,   0,   0,   0,   0,   0,   0,   0,   0,\n",
              "         0,   0,   0,   0,   0,   0,   0,   0,   0,   0,   0,   0,   0,\n",
              "         0,   0,   0,   0,   0,   0,   0,   0,   0,   0,   0,   0,   0,\n",
              "         0,   0,   0,   0,   0,   0,   0,   0,   0,   0,   0,   0,   0,\n",
              "         0,   0,   0,   0,   0,   0,   0,   0,   0,   0,   0,   0,   0,\n",
              "         0,   0,   0,   0,   0,   0,   0,   0,   0,   0,   0,   0,   0,\n",
              "         0,   0,   0,   0,   0,   0,   0,   0,   0,   0,   0,   0,   0,\n",
              "         0,   0,   0,   0,   0,   0,   0,   0,   0,   0,   0,   0,   0,\n",
              "         0,   0,   0,   0,   0,   0,   0,   0,   0,   0,   0,   0,   0,\n",
              "         0,   0,   0,   0,   0,   0,   0,   0,   0,   0,   0,   0,   0,\n",
              "         0,   0,   0,   0,   0,   0,   0,   0,   0,   0,   0,   0,   0,\n",
              "         0,   0,   0,   0,   0,   0,   0,   0,   0,   0,   0,   0,   0,\n",
              "         0,   0,   0,   0,   0,   0,   0,   0,   0,   0,   0,   0,   0,\n",
              "         0,   0,   0,   0,   0,   0,   0,   0,   0,   0,   0,   0,   0,\n",
              "         0,   0,   0,   0,   0,   0,   0,   0,   0,   0,   0,   0,   0,\n",
              "         0,   0,   0,   0,   0,   0,   0,   0,   0,   0,   0,   0,   0,\n",
              "         0,   0,   0,   0,   0,   0,   0,   0,   0,   0,   0,   0,   0,\n",
              "         0,   0,   0,   0,   0,   0,   0,   0,   0,   0,   0,   0,   0,\n",
              "         0,   0,   0,   0,   0,   0,   0,   0,   0,   0,   0,   0,   0,\n",
              "         0,   0,   0,   0,   0,   0,   0,   0,   0,   0,   0,   0,   0,\n",
              "         0,   0,   0,   0,   0,   0,   0,   0,   0,   0,   0,   0,   0,\n",
              "         0,   0,   0,   0,   0,   0,   0,   0,   0,   0,   0,   0,   0,\n",
              "         0,   0,   0,   0,   0,   0,   0,   0,   0,   0,   0,   0,   0,\n",
              "         0,   0,   0,   0,   0,   0,   0,   0,   0,   0,   0, 169,  28],\n",
              "      dtype=int32)"
            ]
          },
          "metadata": {},
          "execution_count": 51
        }
      ]
    },
    {
      "cell_type": "code",
      "source": [
        "xs = input_sequences[:,:-1]\n",
        "labels = input_sequences[:,-1]"
      ],
      "metadata": {
        "id": "5MBbIvrZkFWm"
      },
      "execution_count": 52,
      "outputs": []
    },
    {
      "cell_type": "code",
      "source": [
        "ys = tf.keras.utils.to_categorical(labels, num_classes= total_words)"
      ],
      "metadata": {
        "id": "bC9ErtwfkXnT"
      },
      "execution_count": 53,
      "outputs": []
    },
    {
      "cell_type": "code",
      "source": [
        "ys[0]"
      ],
      "metadata": {
        "colab": {
          "base_uri": "https://localhost:8080/"
        },
        "id": "V8Dbx5_IIjq4",
        "outputId": "95f28f7d-8b1a-4d6d-ab0b-6c8184b70d76"
      },
      "execution_count": 54,
      "outputs": [
        {
          "output_type": "execute_result",
          "data": {
            "text/plain": [
              "array([0., 0., 0., 0., 0., 0., 0., 0., 0., 0., 0., 0., 0., 0., 0., 0., 0.,\n",
              "       0., 0., 0., 0., 0., 0., 0., 0., 0., 0., 0., 1., 0., 0., 0., 0., 0.,\n",
              "       0., 0., 0., 0., 0., 0., 0., 0., 0., 0., 0., 0., 0., 0., 0., 0., 0.,\n",
              "       0., 0., 0., 0., 0., 0., 0., 0., 0., 0., 0., 0., 0., 0., 0., 0., 0.,\n",
              "       0., 0., 0., 0., 0., 0., 0., 0., 0., 0., 0., 0., 0., 0., 0., 0., 0.,\n",
              "       0., 0., 0., 0., 0., 0., 0., 0., 0., 0., 0., 0., 0., 0., 0., 0., 0.,\n",
              "       0., 0., 0., 0., 0., 0., 0., 0., 0., 0., 0., 0., 0., 0., 0., 0., 0.,\n",
              "       0., 0., 0., 0., 0., 0., 0., 0., 0., 0., 0., 0., 0., 0., 0., 0., 0.,\n",
              "       0., 0., 0., 0., 0., 0., 0., 0., 0., 0., 0., 0., 0., 0., 0., 0., 0.,\n",
              "       0., 0., 0., 0., 0., 0., 0., 0., 0., 0., 0., 0., 0., 0., 0., 0., 0.,\n",
              "       0., 0., 0., 0., 0., 0., 0., 0., 0., 0., 0., 0., 0., 0., 0., 0., 0.,\n",
              "       0., 0., 0., 0., 0., 0., 0., 0., 0., 0., 0., 0., 0., 0., 0., 0., 0.,\n",
              "       0., 0., 0., 0., 0., 0., 0., 0., 0., 0., 0., 0., 0., 0., 0., 0., 0.,\n",
              "       0., 0., 0., 0., 0., 0., 0., 0., 0., 0., 0., 0., 0., 0., 0., 0., 0.,\n",
              "       0., 0., 0., 0., 0., 0., 0., 0., 0., 0., 0., 0., 0., 0., 0., 0., 0.,\n",
              "       0., 0., 0., 0., 0., 0., 0., 0., 0., 0., 0., 0., 0., 0., 0., 0., 0.,\n",
              "       0., 0., 0., 0., 0., 0., 0., 0., 0., 0., 0., 0., 0., 0., 0., 0., 0.,\n",
              "       0., 0., 0., 0., 0., 0., 0., 0., 0., 0., 0., 0., 0., 0., 0., 0., 0.,\n",
              "       0., 0., 0., 0., 0., 0., 0., 0., 0., 0., 0., 0., 0., 0., 0., 0., 0.,\n",
              "       0., 0., 0., 0., 0., 0., 0., 0., 0., 0., 0., 0., 0., 0., 0., 0., 0.,\n",
              "       0., 0., 0., 0., 0., 0., 0., 0., 0., 0., 0., 0., 0., 0., 0., 0., 0.,\n",
              "       0., 0., 0., 0., 0., 0., 0., 0., 0., 0., 0., 0., 0., 0., 0., 0., 0.,\n",
              "       0., 0., 0., 0., 0., 0., 0., 0., 0., 0., 0., 0., 0., 0., 0., 0., 0.,\n",
              "       0., 0., 0., 0., 0., 0., 0., 0., 0., 0., 0., 0., 0., 0., 0., 0., 0.,\n",
              "       0., 0., 0., 0., 0., 0., 0., 0., 0., 0., 0., 0., 0., 0., 0., 0., 0.,\n",
              "       0., 0., 0., 0., 0., 0., 0., 0., 0., 0., 0., 0., 0., 0., 0., 0., 0.,\n",
              "       0., 0., 0., 0., 0., 0., 0., 0., 0., 0., 0., 0., 0., 0., 0., 0., 0.,\n",
              "       0., 0., 0., 0., 0., 0., 0., 0., 0., 0., 0., 0., 0., 0., 0., 0., 0.,\n",
              "       0., 0., 0., 0., 0., 0., 0., 0., 0., 0., 0., 0., 0., 0., 0., 0., 0.,\n",
              "       0., 0., 0., 0., 0., 0., 0., 0., 0., 0., 0., 0., 0., 0., 0., 0., 0.,\n",
              "       0., 0., 0., 0., 0., 0., 0., 0., 0., 0., 0., 0., 0., 0., 0., 0., 0.,\n",
              "       0., 0., 0., 0., 0., 0., 0., 0., 0., 0., 0., 0., 0., 0., 0., 0., 0.,\n",
              "       0., 0., 0., 0., 0., 0., 0., 0., 0., 0., 0., 0., 0., 0., 0., 0., 0.,\n",
              "       0., 0., 0., 0., 0., 0., 0., 0., 0., 0., 0., 0., 0., 0., 0., 0., 0.,\n",
              "       0., 0., 0., 0., 0., 0., 0., 0., 0., 0., 0., 0., 0., 0., 0., 0., 0.,\n",
              "       0., 0., 0., 0., 0., 0., 0., 0., 0., 0., 0., 0., 0., 0., 0., 0., 0.,\n",
              "       0., 0., 0., 0., 0., 0., 0., 0., 0., 0., 0., 0., 0., 0., 0., 0., 0.,\n",
              "       0., 0., 0., 0., 0., 0., 0., 0., 0., 0., 0., 0., 0., 0., 0., 0., 0.,\n",
              "       0., 0., 0., 0., 0., 0., 0., 0., 0., 0., 0., 0., 0., 0., 0., 0., 0.,\n",
              "       0., 0., 0., 0., 0., 0., 0., 0., 0., 0., 0., 0., 0., 0., 0., 0., 0.,\n",
              "       0., 0., 0., 0., 0., 0., 0., 0., 0., 0., 0., 0., 0., 0., 0., 0., 0.,\n",
              "       0., 0., 0., 0., 0., 0., 0., 0., 0., 0., 0., 0., 0., 0., 0., 0., 0.,\n",
              "       0., 0., 0., 0., 0., 0., 0., 0., 0., 0., 0., 0., 0., 0., 0., 0., 0.,\n",
              "       0., 0., 0., 0., 0., 0., 0., 0., 0., 0., 0., 0., 0., 0., 0., 0., 0.,\n",
              "       0., 0., 0., 0., 0., 0., 0., 0., 0., 0., 0., 0., 0., 0., 0., 0., 0.,\n",
              "       0., 0., 0., 0., 0., 0., 0., 0., 0., 0., 0., 0., 0., 0., 0., 0., 0.,\n",
              "       0., 0., 0., 0., 0., 0., 0., 0., 0., 0., 0., 0., 0., 0., 0., 0., 0.,\n",
              "       0., 0., 0., 0., 0., 0., 0., 0., 0., 0., 0., 0., 0., 0., 0., 0., 0.,\n",
              "       0., 0., 0., 0., 0., 0., 0., 0., 0., 0., 0., 0., 0., 0., 0., 0., 0.,\n",
              "       0., 0., 0., 0., 0., 0., 0., 0., 0., 0., 0., 0., 0., 0., 0., 0., 0.,\n",
              "       0., 0., 0., 0., 0., 0., 0., 0., 0., 0., 0., 0., 0., 0., 0., 0., 0.,\n",
              "       0., 0., 0., 0., 0., 0., 0., 0., 0., 0., 0., 0., 0., 0., 0., 0., 0.,\n",
              "       0., 0., 0., 0., 0., 0., 0., 0., 0., 0., 0., 0., 0., 0., 0., 0., 0.,\n",
              "       0., 0., 0., 0., 0., 0., 0., 0., 0., 0., 0., 0., 0., 0., 0., 0., 0.,\n",
              "       0., 0., 0., 0., 0., 0., 0., 0.], dtype=float32)"
            ]
          },
          "metadata": {},
          "execution_count": 54
        }
      ]
    },
    {
      "cell_type": "code",
      "source": [
        "len(ys[0])"
      ],
      "metadata": {
        "colab": {
          "base_uri": "https://localhost:8080/"
        },
        "id": "Uq6ZRXj8NfkY",
        "outputId": "362c31bb-44a5-45b9-a963-ea58a80398dd"
      },
      "execution_count": 57,
      "outputs": [
        {
          "output_type": "execute_result",
          "data": {
            "text/plain": [
              "926"
            ]
          },
          "metadata": {},
          "execution_count": 57
        }
      ]
    },
    {
      "cell_type": "code",
      "source": [
        "xs"
      ],
      "metadata": {
        "colab": {
          "base_uri": "https://localhost:8080/"
        },
        "id": "Egs1H_0m8ddE",
        "outputId": "3c728b6e-7f4e-4a49-cf2a-0ee56712b8bc"
      },
      "execution_count": 58,
      "outputs": [
        {
          "output_type": "execute_result",
          "data": {
            "text/plain": [
              "array([[  0,   0,   0, ...,   0,   0, 169],\n",
              "       [  0,   0,   0, ...,   0, 169,  28],\n",
              "       [  0,   0,   0, ..., 169,  28, 106],\n",
              "       ...,\n",
              "       [  0,   0,   0, ...,   1, 924,   1],\n",
              "       [  0,   0,   0, ..., 924,   1, 248],\n",
              "       [  0,   0,   0, ...,   1, 248, 255]], dtype=int32)"
            ]
          },
          "metadata": {},
          "execution_count": 58
        }
      ]
    },
    {
      "cell_type": "code",
      "source": [
        "model = tf.keras.Sequential()\n",
        "model.add(Embedding(total_words, 200, input_length = max_seq_len-1))\n",
        "model.add(Bidirectional(LSTM(50)))\n",
        "model.add(Dense(total_words, activation='softmax'))\n",
        "adam = Adam(lr=0.01)\n",
        "model.compile(loss='categorical_crossentropy', optimizer=adam, metrics=['accuracy'])\n",
        "history = model.fit(xs ,ys ,epochs=100, verbose=1)"
      ],
      "metadata": {
        "id": "YcKLJjLtlAlC",
        "colab": {
          "base_uri": "https://localhost:8080/",
          "height": 796
        },
        "outputId": "ebedeecf-f6ac-4bab-ebc4-4c21449d4aff"
      },
      "execution_count": 59,
      "outputs": [
        {
          "metadata": {
            "tags": null
          },
          "name": "stdout",
          "output_type": "stream",
          "text": [
            "Epoch 1/100\n"
          ]
        },
        {
          "metadata": {
            "tags": null
          },
          "name": "stderr",
          "output_type": "stream",
          "text": [
            "/usr/local/lib/python3.7/dist-packages/keras/optimizers/optimizer_v2/adam.py:110: UserWarning: The `lr` argument is deprecated, use `learning_rate` instead.\n",
            "  super(Adam, self).__init__(name, **kwargs)\n"
          ]
        },
        {
          "output_type": "stream",
          "name": "stdout",
          "text": [
            "66/66 [==============================] - 37s 501ms/step - loss: 6.3122 - accuracy: 0.0912\n",
            "Epoch 2/100\n",
            "66/66 [==============================] - 33s 498ms/step - loss: 5.5631 - accuracy: 0.1181\n",
            "Epoch 3/100\n",
            "66/66 [==============================] - 32s 492ms/step - loss: 5.1063 - accuracy: 0.1603\n",
            "Epoch 4/100\n",
            "66/66 [==============================] - 33s 493ms/step - loss: 4.4905 - accuracy: 0.2127\n",
            "Epoch 5/100\n",
            "66/66 [==============================] - 32s 491ms/step - loss: 3.8671 - accuracy: 0.2679\n",
            "Epoch 6/100\n",
            "66/66 [==============================] - 32s 484ms/step - loss: 3.2311 - accuracy: 0.3495\n",
            "Epoch 7/100\n",
            "66/66 [==============================] - 32s 488ms/step - loss: 2.6157 - accuracy: 0.4623\n",
            "Epoch 8/100\n",
            "66/66 [==============================] - 32s 484ms/step - loss: 2.0928 - accuracy: 0.5843\n",
            "Epoch 9/100\n",
            "66/66 [==============================] - 33s 495ms/step - loss: 1.6671 - accuracy: 0.6740\n",
            "Epoch 10/100\n",
            "66/66 [==============================] - 33s 494ms/step - loss: 1.3659 - accuracy: 0.7292\n",
            "Epoch 11/100\n",
            "66/66 [==============================] - 32s 485ms/step - loss: 1.1191 - accuracy: 0.7820\n",
            "Epoch 12/100\n",
            "37/66 [===============>..............] - ETA: 13s - loss: 0.8857 - accuracy: 0.8328"
          ]
        },
        {
          "output_type": "error",
          "ename": "KeyboardInterrupt",
          "evalue": "ignored",
          "traceback": [
            "\u001b[0;31m---------------------------------------------------------------------------\u001b[0m",
            "\u001b[0;31mKeyboardInterrupt\u001b[0m                         Traceback (most recent call last)",
            "\u001b[0;32m<ipython-input-59-61d7db4ec655>\u001b[0m in \u001b[0;36m<module>\u001b[0;34m\u001b[0m\n\u001b[1;32m      5\u001b[0m \u001b[0madam\u001b[0m \u001b[0;34m=\u001b[0m \u001b[0mAdam\u001b[0m\u001b[0;34m(\u001b[0m\u001b[0mlr\u001b[0m\u001b[0;34m=\u001b[0m\u001b[0;36m0.01\u001b[0m\u001b[0;34m)\u001b[0m\u001b[0;34m\u001b[0m\u001b[0;34m\u001b[0m\u001b[0m\n\u001b[1;32m      6\u001b[0m \u001b[0mmodel\u001b[0m\u001b[0;34m.\u001b[0m\u001b[0mcompile\u001b[0m\u001b[0;34m(\u001b[0m\u001b[0mloss\u001b[0m\u001b[0;34m=\u001b[0m\u001b[0;34m'categorical_crossentropy'\u001b[0m\u001b[0;34m,\u001b[0m \u001b[0moptimizer\u001b[0m\u001b[0;34m=\u001b[0m\u001b[0madam\u001b[0m\u001b[0;34m,\u001b[0m \u001b[0mmetrics\u001b[0m\u001b[0;34m=\u001b[0m\u001b[0;34m[\u001b[0m\u001b[0;34m'accuracy'\u001b[0m\u001b[0;34m]\u001b[0m\u001b[0;34m)\u001b[0m\u001b[0;34m\u001b[0m\u001b[0;34m\u001b[0m\u001b[0m\n\u001b[0;32m----> 7\u001b[0;31m \u001b[0mhistory\u001b[0m \u001b[0;34m=\u001b[0m \u001b[0mmodel\u001b[0m\u001b[0;34m.\u001b[0m\u001b[0mfit\u001b[0m\u001b[0;34m(\u001b[0m\u001b[0mxs\u001b[0m \u001b[0;34m,\u001b[0m\u001b[0mys\u001b[0m \u001b[0;34m,\u001b[0m\u001b[0mepochs\u001b[0m\u001b[0;34m=\u001b[0m\u001b[0;36m100\u001b[0m\u001b[0;34m,\u001b[0m \u001b[0mverbose\u001b[0m\u001b[0;34m=\u001b[0m\u001b[0;36m1\u001b[0m\u001b[0;34m)\u001b[0m\u001b[0;34m\u001b[0m\u001b[0;34m\u001b[0m\u001b[0m\n\u001b[0m",
            "\u001b[0;32m/usr/local/lib/python3.7/dist-packages/keras/utils/traceback_utils.py\u001b[0m in \u001b[0;36merror_handler\u001b[0;34m(*args, **kwargs)\u001b[0m\n\u001b[1;32m     62\u001b[0m     \u001b[0mfiltered_tb\u001b[0m \u001b[0;34m=\u001b[0m \u001b[0;32mNone\u001b[0m\u001b[0;34m\u001b[0m\u001b[0;34m\u001b[0m\u001b[0m\n\u001b[1;32m     63\u001b[0m     \u001b[0;32mtry\u001b[0m\u001b[0;34m:\u001b[0m\u001b[0;34m\u001b[0m\u001b[0;34m\u001b[0m\u001b[0m\n\u001b[0;32m---> 64\u001b[0;31m       \u001b[0;32mreturn\u001b[0m \u001b[0mfn\u001b[0m\u001b[0;34m(\u001b[0m\u001b[0;34m*\u001b[0m\u001b[0margs\u001b[0m\u001b[0;34m,\u001b[0m \u001b[0;34m**\u001b[0m\u001b[0mkwargs\u001b[0m\u001b[0;34m)\u001b[0m\u001b[0;34m\u001b[0m\u001b[0;34m\u001b[0m\u001b[0m\n\u001b[0m\u001b[1;32m     65\u001b[0m     \u001b[0;32mexcept\u001b[0m \u001b[0mException\u001b[0m \u001b[0;32mas\u001b[0m \u001b[0me\u001b[0m\u001b[0;34m:\u001b[0m  \u001b[0;31m# pylint: disable=broad-except\u001b[0m\u001b[0;34m\u001b[0m\u001b[0;34m\u001b[0m\u001b[0m\n\u001b[1;32m     66\u001b[0m       \u001b[0mfiltered_tb\u001b[0m \u001b[0;34m=\u001b[0m \u001b[0m_process_traceback_frames\u001b[0m\u001b[0;34m(\u001b[0m\u001b[0me\u001b[0m\u001b[0;34m.\u001b[0m\u001b[0m__traceback__\u001b[0m\u001b[0;34m)\u001b[0m\u001b[0;34m\u001b[0m\u001b[0;34m\u001b[0m\u001b[0m\n",
            "\u001b[0;32m/usr/local/lib/python3.7/dist-packages/keras/engine/training.py\u001b[0m in \u001b[0;36mfit\u001b[0;34m(self, x, y, batch_size, epochs, verbose, callbacks, validation_split, validation_data, shuffle, class_weight, sample_weight, initial_epoch, steps_per_epoch, validation_steps, validation_batch_size, validation_freq, max_queue_size, workers, use_multiprocessing)\u001b[0m\n\u001b[1;32m   1407\u001b[0m                 _r=1):\n\u001b[1;32m   1408\u001b[0m               \u001b[0mcallbacks\u001b[0m\u001b[0;34m.\u001b[0m\u001b[0mon_train_batch_begin\u001b[0m\u001b[0;34m(\u001b[0m\u001b[0mstep\u001b[0m\u001b[0;34m)\u001b[0m\u001b[0;34m\u001b[0m\u001b[0;34m\u001b[0m\u001b[0m\n\u001b[0;32m-> 1409\u001b[0;31m               \u001b[0mtmp_logs\u001b[0m \u001b[0;34m=\u001b[0m \u001b[0mself\u001b[0m\u001b[0;34m.\u001b[0m\u001b[0mtrain_function\u001b[0m\u001b[0;34m(\u001b[0m\u001b[0miterator\u001b[0m\u001b[0;34m)\u001b[0m\u001b[0;34m\u001b[0m\u001b[0;34m\u001b[0m\u001b[0m\n\u001b[0m\u001b[1;32m   1410\u001b[0m               \u001b[0;32mif\u001b[0m \u001b[0mdata_handler\u001b[0m\u001b[0;34m.\u001b[0m\u001b[0mshould_sync\u001b[0m\u001b[0;34m:\u001b[0m\u001b[0;34m\u001b[0m\u001b[0;34m\u001b[0m\u001b[0m\n\u001b[1;32m   1411\u001b[0m                 \u001b[0mcontext\u001b[0m\u001b[0;34m.\u001b[0m\u001b[0masync_wait\u001b[0m\u001b[0;34m(\u001b[0m\u001b[0;34m)\u001b[0m\u001b[0;34m\u001b[0m\u001b[0;34m\u001b[0m\u001b[0m\n",
            "\u001b[0;32m/usr/local/lib/python3.7/dist-packages/tensorflow/python/util/traceback_utils.py\u001b[0m in \u001b[0;36merror_handler\u001b[0;34m(*args, **kwargs)\u001b[0m\n\u001b[1;32m    148\u001b[0m     \u001b[0mfiltered_tb\u001b[0m \u001b[0;34m=\u001b[0m \u001b[0;32mNone\u001b[0m\u001b[0;34m\u001b[0m\u001b[0;34m\u001b[0m\u001b[0m\n\u001b[1;32m    149\u001b[0m     \u001b[0;32mtry\u001b[0m\u001b[0;34m:\u001b[0m\u001b[0;34m\u001b[0m\u001b[0;34m\u001b[0m\u001b[0m\n\u001b[0;32m--> 150\u001b[0;31m       \u001b[0;32mreturn\u001b[0m \u001b[0mfn\u001b[0m\u001b[0;34m(\u001b[0m\u001b[0;34m*\u001b[0m\u001b[0margs\u001b[0m\u001b[0;34m,\u001b[0m \u001b[0;34m**\u001b[0m\u001b[0mkwargs\u001b[0m\u001b[0;34m)\u001b[0m\u001b[0;34m\u001b[0m\u001b[0;34m\u001b[0m\u001b[0m\n\u001b[0m\u001b[1;32m    151\u001b[0m     \u001b[0;32mexcept\u001b[0m \u001b[0mException\u001b[0m \u001b[0;32mas\u001b[0m \u001b[0me\u001b[0m\u001b[0;34m:\u001b[0m\u001b[0;34m\u001b[0m\u001b[0;34m\u001b[0m\u001b[0m\n\u001b[1;32m    152\u001b[0m       \u001b[0mfiltered_tb\u001b[0m \u001b[0;34m=\u001b[0m \u001b[0m_process_traceback_frames\u001b[0m\u001b[0;34m(\u001b[0m\u001b[0me\u001b[0m\u001b[0;34m.\u001b[0m\u001b[0m__traceback__\u001b[0m\u001b[0;34m)\u001b[0m\u001b[0;34m\u001b[0m\u001b[0;34m\u001b[0m\u001b[0m\n",
            "\u001b[0;32m/usr/local/lib/python3.7/dist-packages/tensorflow/python/eager/def_function.py\u001b[0m in \u001b[0;36m__call__\u001b[0;34m(self, *args, **kwds)\u001b[0m\n\u001b[1;32m    913\u001b[0m \u001b[0;34m\u001b[0m\u001b[0m\n\u001b[1;32m    914\u001b[0m       \u001b[0;32mwith\u001b[0m \u001b[0mOptionalXlaContext\u001b[0m\u001b[0;34m(\u001b[0m\u001b[0mself\u001b[0m\u001b[0;34m.\u001b[0m\u001b[0m_jit_compile\u001b[0m\u001b[0;34m)\u001b[0m\u001b[0;34m:\u001b[0m\u001b[0;34m\u001b[0m\u001b[0;34m\u001b[0m\u001b[0m\n\u001b[0;32m--> 915\u001b[0;31m         \u001b[0mresult\u001b[0m \u001b[0;34m=\u001b[0m \u001b[0mself\u001b[0m\u001b[0;34m.\u001b[0m\u001b[0m_call\u001b[0m\u001b[0;34m(\u001b[0m\u001b[0;34m*\u001b[0m\u001b[0margs\u001b[0m\u001b[0;34m,\u001b[0m \u001b[0;34m**\u001b[0m\u001b[0mkwds\u001b[0m\u001b[0;34m)\u001b[0m\u001b[0;34m\u001b[0m\u001b[0;34m\u001b[0m\u001b[0m\n\u001b[0m\u001b[1;32m    916\u001b[0m \u001b[0;34m\u001b[0m\u001b[0m\n\u001b[1;32m    917\u001b[0m       \u001b[0mnew_tracing_count\u001b[0m \u001b[0;34m=\u001b[0m \u001b[0mself\u001b[0m\u001b[0;34m.\u001b[0m\u001b[0mexperimental_get_tracing_count\u001b[0m\u001b[0;34m(\u001b[0m\u001b[0;34m)\u001b[0m\u001b[0;34m\u001b[0m\u001b[0;34m\u001b[0m\u001b[0m\n",
            "\u001b[0;32m/usr/local/lib/python3.7/dist-packages/tensorflow/python/eager/def_function.py\u001b[0m in \u001b[0;36m_call\u001b[0;34m(self, *args, **kwds)\u001b[0m\n\u001b[1;32m    945\u001b[0m       \u001b[0;31m# In this case we have created variables on the first call, so we run the\u001b[0m\u001b[0;34m\u001b[0m\u001b[0;34m\u001b[0m\u001b[0;34m\u001b[0m\u001b[0m\n\u001b[1;32m    946\u001b[0m       \u001b[0;31m# defunned version which is guaranteed to never create variables.\u001b[0m\u001b[0;34m\u001b[0m\u001b[0;34m\u001b[0m\u001b[0;34m\u001b[0m\u001b[0m\n\u001b[0;32m--> 947\u001b[0;31m       \u001b[0;32mreturn\u001b[0m \u001b[0mself\u001b[0m\u001b[0;34m.\u001b[0m\u001b[0m_stateless_fn\u001b[0m\u001b[0;34m(\u001b[0m\u001b[0;34m*\u001b[0m\u001b[0margs\u001b[0m\u001b[0;34m,\u001b[0m \u001b[0;34m**\u001b[0m\u001b[0mkwds\u001b[0m\u001b[0;34m)\u001b[0m  \u001b[0;31m# pylint: disable=not-callable\u001b[0m\u001b[0;34m\u001b[0m\u001b[0;34m\u001b[0m\u001b[0m\n\u001b[0m\u001b[1;32m    948\u001b[0m     \u001b[0;32melif\u001b[0m \u001b[0mself\u001b[0m\u001b[0;34m.\u001b[0m\u001b[0m_stateful_fn\u001b[0m \u001b[0;32mis\u001b[0m \u001b[0;32mnot\u001b[0m \u001b[0;32mNone\u001b[0m\u001b[0;34m:\u001b[0m\u001b[0;34m\u001b[0m\u001b[0;34m\u001b[0m\u001b[0m\n\u001b[1;32m    949\u001b[0m       \u001b[0;31m# Release the lock early so that multiple threads can perform the call\u001b[0m\u001b[0;34m\u001b[0m\u001b[0;34m\u001b[0m\u001b[0;34m\u001b[0m\u001b[0m\n",
            "\u001b[0;32m/usr/local/lib/python3.7/dist-packages/tensorflow/python/eager/function.py\u001b[0m in \u001b[0;36m__call__\u001b[0;34m(self, *args, **kwargs)\u001b[0m\n\u001b[1;32m   2452\u001b[0m        filtered_flat_args) = self._maybe_define_function(args, kwargs)\n\u001b[1;32m   2453\u001b[0m     return graph_function._call_flat(\n\u001b[0;32m-> 2454\u001b[0;31m         filtered_flat_args, captured_inputs=graph_function.captured_inputs)  # pylint: disable=protected-access\n\u001b[0m\u001b[1;32m   2455\u001b[0m \u001b[0;34m\u001b[0m\u001b[0m\n\u001b[1;32m   2456\u001b[0m   \u001b[0;34m@\u001b[0m\u001b[0mproperty\u001b[0m\u001b[0;34m\u001b[0m\u001b[0;34m\u001b[0m\u001b[0m\n",
            "\u001b[0;32m/usr/local/lib/python3.7/dist-packages/tensorflow/python/eager/function.py\u001b[0m in \u001b[0;36m_call_flat\u001b[0;34m(self, args, captured_inputs, cancellation_manager)\u001b[0m\n\u001b[1;32m   1859\u001b[0m       \u001b[0;31m# No tape is watching; skip to running the function.\u001b[0m\u001b[0;34m\u001b[0m\u001b[0;34m\u001b[0m\u001b[0;34m\u001b[0m\u001b[0m\n\u001b[1;32m   1860\u001b[0m       return self._build_call_outputs(self._inference_function.call(\n\u001b[0;32m-> 1861\u001b[0;31m           ctx, args, cancellation_manager=cancellation_manager))\n\u001b[0m\u001b[1;32m   1862\u001b[0m     forward_backward = self._select_forward_and_backward_functions(\n\u001b[1;32m   1863\u001b[0m         \u001b[0margs\u001b[0m\u001b[0;34m,\u001b[0m\u001b[0;34m\u001b[0m\u001b[0;34m\u001b[0m\u001b[0m\n",
            "\u001b[0;32m/usr/local/lib/python3.7/dist-packages/tensorflow/python/eager/function.py\u001b[0m in \u001b[0;36mcall\u001b[0;34m(self, ctx, args, cancellation_manager)\u001b[0m\n\u001b[1;32m    500\u001b[0m               \u001b[0minputs\u001b[0m\u001b[0;34m=\u001b[0m\u001b[0margs\u001b[0m\u001b[0;34m,\u001b[0m\u001b[0;34m\u001b[0m\u001b[0;34m\u001b[0m\u001b[0m\n\u001b[1;32m    501\u001b[0m               \u001b[0mattrs\u001b[0m\u001b[0;34m=\u001b[0m\u001b[0mattrs\u001b[0m\u001b[0;34m,\u001b[0m\u001b[0;34m\u001b[0m\u001b[0;34m\u001b[0m\u001b[0m\n\u001b[0;32m--> 502\u001b[0;31m               ctx=ctx)\n\u001b[0m\u001b[1;32m    503\u001b[0m         \u001b[0;32melse\u001b[0m\u001b[0;34m:\u001b[0m\u001b[0;34m\u001b[0m\u001b[0;34m\u001b[0m\u001b[0m\n\u001b[1;32m    504\u001b[0m           outputs = execute.execute_with_cancellation(\n",
            "\u001b[0;32m/usr/local/lib/python3.7/dist-packages/tensorflow/python/eager/execute.py\u001b[0m in \u001b[0;36mquick_execute\u001b[0;34m(op_name, num_outputs, inputs, attrs, ctx, name)\u001b[0m\n\u001b[1;32m     53\u001b[0m     \u001b[0mctx\u001b[0m\u001b[0;34m.\u001b[0m\u001b[0mensure_initialized\u001b[0m\u001b[0;34m(\u001b[0m\u001b[0;34m)\u001b[0m\u001b[0;34m\u001b[0m\u001b[0;34m\u001b[0m\u001b[0m\n\u001b[1;32m     54\u001b[0m     tensors = pywrap_tfe.TFE_Py_Execute(ctx._handle, device_name, op_name,\n\u001b[0;32m---> 55\u001b[0;31m                                         inputs, attrs, num_outputs)\n\u001b[0m\u001b[1;32m     56\u001b[0m   \u001b[0;32mexcept\u001b[0m \u001b[0mcore\u001b[0m\u001b[0;34m.\u001b[0m\u001b[0m_NotOkStatusException\u001b[0m \u001b[0;32mas\u001b[0m \u001b[0me\u001b[0m\u001b[0;34m:\u001b[0m\u001b[0;34m\u001b[0m\u001b[0;34m\u001b[0m\u001b[0m\n\u001b[1;32m     57\u001b[0m     \u001b[0;32mif\u001b[0m \u001b[0mname\u001b[0m \u001b[0;32mis\u001b[0m \u001b[0;32mnot\u001b[0m \u001b[0;32mNone\u001b[0m\u001b[0;34m:\u001b[0m\u001b[0;34m\u001b[0m\u001b[0;34m\u001b[0m\u001b[0m\n",
            "\u001b[0;31mKeyboardInterrupt\u001b[0m: "
          ]
        }
      ]
    },
    {
      "cell_type": "code",
      "source": [
        "model.summary()"
      ],
      "metadata": {
        "colab": {
          "base_uri": "https://localhost:8080/"
        },
        "id": "iBc2bap3HLXt",
        "outputId": "6cb21225-c3b9-4972-bbd0-ca7724eb9710"
      },
      "execution_count": 24,
      "outputs": [
        {
          "output_type": "stream",
          "name": "stdout",
          "text": [
            "Model: \"sequential\"\n",
            "_________________________________________________________________\n",
            " Layer (type)                Output Shape              Param #   \n",
            "=================================================================\n",
            " embedding (Embedding)       (None, 9, 200)            15200     \n",
            "                                                                 \n",
            " bidirectional (Bidirectiona  (None, 100)              100400    \n",
            " l)                                                              \n",
            "                                                                 \n",
            " dense (Dense)               (None, 76)                7676      \n",
            "                                                                 \n",
            "=================================================================\n",
            "Total params: 123,276\n",
            "Trainable params: 123,276\n",
            "Non-trainable params: 0\n",
            "_________________________________________________________________\n"
          ]
        }
      ]
    },
    {
      "cell_type": "code",
      "source": [
        "print(history)"
      ],
      "metadata": {
        "colab": {
          "base_uri": "https://localhost:8080/"
        },
        "id": "Zt94gFQ8zRC9",
        "outputId": "b455a02e-924e-4b3f-8170-49ba418e1e9e"
      },
      "execution_count": 25,
      "outputs": [
        {
          "output_type": "stream",
          "name": "stdout",
          "text": [
            "<keras.callbacks.History object at 0x7fd8f1d067d0>\n"
          ]
        }
      ]
    },
    {
      "cell_type": "code",
      "source": [
        "seed_text = \"it is what it is\"\n",
        "next_words = 5\n",
        "\n",
        "for _ in range(next_words):\n",
        "  token_list = tokenizer.texts_to_sequences([seed_text])[0]\n",
        "  token_list = pad_sequences([token_list],maxlen=max_seq_len-1, padding = 'pre')\n",
        "  predicted = model.predict(token_list, verbose =0)\n",
        "  out_word = \"\"\n",
        "  for word , index in tokenizer.word_index.items():\n",
        "    if index == np.argmax(predicted):\n",
        "      out_word = word\n",
        "  seed_text += \" \" + out_word\n",
        "print(seed_text)"
      ],
      "metadata": {
        "colab": {
          "base_uri": "https://localhost:8080/"
        },
        "id": "73CO_K1PqFk3",
        "outputId": "09e2e375-ddbf-49c2-b9d6-8f9e51e9542e"
      },
      "execution_count": 37,
      "outputs": [
        {
          "output_type": "stream",
          "name": "stdout",
          "text": [
            "it is what it is art twice forsworn to me\n"
          ]
        }
      ]
    },
    {
      "cell_type": "code",
      "source": [],
      "metadata": {
        "id": "krI-X1nFmql7"
      },
      "execution_count": null,
      "outputs": []
    }
  ]
}